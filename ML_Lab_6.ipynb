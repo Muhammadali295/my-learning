{
  "nbformat": 4,
  "nbformat_minor": 0,
  "metadata": {
    "colab": {
      "provenance": [],
      "include_colab_link": true
    },
    "kernelspec": {
      "name": "python3",
      "display_name": "Python 3"
    },
    "language_info": {
      "name": "python"
    }
  },
  "cells": [
    {
      "cell_type": "markdown",
      "metadata": {
        "id": "view-in-github",
        "colab_type": "text"
      },
      "source": [
        "<a href=\"https://colab.research.google.com/github/Muhammadali295/my-learning/blob/class/ML_Lab_6.ipynb\" target=\"_parent\"><img src=\"https://colab.research.google.com/assets/colab-badge.svg\" alt=\"Open In Colab\"/></a>"
      ]
    },
    {
      "cell_type": "markdown",
      "source": [
        "# Finding the value of theta using Gradient Descent"
      ],
      "metadata": {
        "id": "lxTTp09Rz0RZ"
      }
    },
    {
      "cell_type": "code",
      "source": [
        "import numpy as np\n",
        "\n",
        "def gradient_descent(X, y, learning_rate=0.01, num_iterations=2000):\n",
        "    # Add intercept term to X\n",
        "    X = np.column_stack((np.ones(len(X)), X))\n",
        "\n",
        "    # Initialize theta with zeros\n",
        "    theta = np.zeros((X.shape[1], 1))\n",
        "\n",
        "    m = len(y)\n",
        "\n",
        "    for i in range(num_iterations):\n",
        "        # Compute predictions\n",
        "        predictions = np.dot(X, theta)\n",
        "\n",
        "        # Compute errors\n",
        "\n",
        "        errors = predictions - y\n",
        "        # Compute gradient\n",
        "\n",
        "        gradient = (1 / m) * np.dot(X.T, errors)\n",
        "\n",
        "\n",
        "\n",
        "        theta -= learning_rate * gradient\n",
        "\n",
        "\n",
        "    return theta\n",
        "\n",
        "def predict(X, theta):\n",
        "    # Add intercept term to X\n",
        "    X = np.column_stack((np.ones(len(X)), X))\n",
        "    # Predict y values\n",
        "    y_pred = np.dot(X, theta)\n",
        "    return y_pred\n",
        "\n",
        "def mean_squared_error(y_true, y_pred):\n",
        "    # Calculate mean squared error\n",
        "    mse = np.mean((y_true - y_pred)**2)\n",
        "    return mse\n",
        "\n",
        "# Example usage:\n",
        "# Sample data\n",
        "X = np.array([1, 2, 3, 4, 5]).reshape(-1, 1)  # Feature\n",
        "y = np.array([2, 4, 5, 4, 5]).reshape(-1, 1)  # Target variable\n",
        "print(\"Features\")\n",
        "print(X)\n",
        "print(\"Target Variables\")\n",
        "print(y)\n",
        "\n",
        "# Train the model using gradient descent\n",
        "theta = gradient_descent(X, y)\n",
        "\n",
        "# Make predictions\n",
        "y_pred = predict(X, theta)\n",
        "\n",
        "# Calculate mean squared error\n",
        "mse = mean_squared_error(y, y_pred)\n",
        "\n",
        "print(\"Model coefficients (theta):\", theta.flatten())\n",
        "print(\"Mean Squared Error:\", mse)"
      ],
      "metadata": {
        "colab": {
          "base_uri": "https://localhost:8080/"
        },
        "id": "I7pXk69Qz6zm",
        "outputId": "78f930a4-5984-4806-c840-9a8546be09ee"
      },
      "execution_count": null,
      "outputs": [
        {
          "output_type": "stream",
          "name": "stdout",
          "text": [
            "Features\n",
            "[[1]\n",
            " [2]\n",
            " [3]\n",
            " [4]\n",
            " [5]]\n",
            "Target Variables\n",
            "[[2]\n",
            " [4]\n",
            " [5]\n",
            " [4]\n",
            " [5]]\n",
            "Model coefficients (theta): [2.13593338 0.61774543]\n",
            "Mean Squared Error: 0.4807470965220588\n"
          ]
        }
      ]
    },
    {
      "cell_type": "markdown",
      "source": [
        "# Logistic Regression"
      ],
      "metadata": {
        "id": "G4ADRIt20kb-"
      }
    },
    {
      "cell_type": "markdown",
      "source": [
        "Let’s use the iris dataset to illustrate Logistic Regression. This is a famous dataset that\n",
        "contains the sepal and petal length and width of 150 iris flowers of three different\n",
        "species: Iris-Setosa, Iris-Versicolor, and Iris-Virginica"
      ],
      "metadata": {
        "id": "dTrL37fmYBMx"
      }
    },
    {
      "cell_type": "markdown",
      "source": [
        "Let’s try to build a classifier to detect the Iris-Virginica type based only on the petal\n",
        "width feature. First let’s load the data:"
      ],
      "metadata": {
        "id": "dqI8MnSAZSEL"
      }
    },
    {
      "cell_type": "code",
      "source": [
        "from sklearn import datasets\n",
        "iris = datasets.load_iris()\n",
        "list(iris.keys())\n"
      ],
      "metadata": {
        "colab": {
          "base_uri": "https://localhost:8080/"
        },
        "id": "OIfQ3GEXZGX-",
        "outputId": "3efc78dc-f6cd-403c-8944-5092bd78e71d"
      },
      "execution_count": null,
      "outputs": [
        {
          "output_type": "execute_result",
          "data": {
            "text/plain": [
              "['data',\n",
              " 'target',\n",
              " 'frame',\n",
              " 'target_names',\n",
              " 'DESCR',\n",
              " 'feature_names',\n",
              " 'filename',\n",
              " 'data_module']"
            ]
          },
          "metadata": {},
          "execution_count": 19
        }
      ]
    },
    {
      "cell_type": "code",
      "source": [
        "features = iris[\"feature_names\"]\n",
        "features"
      ],
      "metadata": {
        "colab": {
          "base_uri": "https://localhost:8080/"
        },
        "id": "Hgxzi5mqZfvI",
        "outputId": "3e1ae58a-6734-421a-ed32-679ae4cc0d76"
      },
      "execution_count": null,
      "outputs": [
        {
          "output_type": "execute_result",
          "data": {
            "text/plain": [
              "['sepal length (cm)',\n",
              " 'sepal width (cm)',\n",
              " 'petal length (cm)',\n",
              " 'petal width (cm)']"
            ]
          },
          "metadata": {},
          "execution_count": 20
        }
      ]
    },
    {
      "cell_type": "code",
      "source": [
        "target = iris[\"target_names\"]\n",
        "target"
      ],
      "metadata": {
        "colab": {
          "base_uri": "https://localhost:8080/"
        },
        "id": "V0KYnr6tZ4MU",
        "outputId": "86dd6858-3723-4981-bb39-fa1ed6fa436e"
      },
      "execution_count": null,
      "outputs": [
        {
          "output_type": "execute_result",
          "data": {
            "text/plain": [
              "array(['setosa', 'versicolor', 'virginica'], dtype='<U10')"
            ]
          },
          "metadata": {},
          "execution_count": 21
        }
      ]
    },
    {
      "cell_type": "code",
      "source": [
        "y = iris[\"target\"]\n",
        "y"
      ],
      "metadata": {
        "colab": {
          "base_uri": "https://localhost:8080/"
        },
        "id": "7NLadWVTaji-",
        "outputId": "58933f75-f517-4a15-ae4d-0a92db0c4c46"
      },
      "execution_count": null,
      "outputs": [
        {
          "output_type": "execute_result",
          "data": {
            "text/plain": [
              "array([0, 0, 0, 0, 0, 0, 0, 0, 0, 0, 0, 0, 0, 0, 0, 0, 0, 0, 0, 0, 0, 0,\n",
              "       0, 0, 0, 0, 0, 0, 0, 0, 0, 0, 0, 0, 0, 0, 0, 0, 0, 0, 0, 0, 0, 0,\n",
              "       0, 0, 0, 0, 0, 0, 1, 1, 1, 1, 1, 1, 1, 1, 1, 1, 1, 1, 1, 1, 1, 1,\n",
              "       1, 1, 1, 1, 1, 1, 1, 1, 1, 1, 1, 1, 1, 1, 1, 1, 1, 1, 1, 1, 1, 1,\n",
              "       1, 1, 1, 1, 1, 1, 1, 1, 1, 1, 1, 1, 2, 2, 2, 2, 2, 2, 2, 2, 2, 2,\n",
              "       2, 2, 2, 2, 2, 2, 2, 2, 2, 2, 2, 2, 2, 2, 2, 2, 2, 2, 2, 2, 2, 2,\n",
              "       2, 2, 2, 2, 2, 2, 2, 2, 2, 2, 2, 2, 2, 2, 2, 2, 2, 2])"
            ]
          },
          "metadata": {},
          "execution_count": 22
        }
      ]
    },
    {
      "cell_type": "code",
      "source": [
        "X = iris[\"data\"][:, 3:] # petal width\n",
        "y = (iris[\"target\"] == 2).astype(int) # 1 if Iris-Virginica, else 0\n",
        "y"
      ],
      "metadata": {
        "colab": {
          "base_uri": "https://localhost:8080/"
        },
        "id": "n4AcbRrBZbHT",
        "outputId": "a2acb955-5bc4-433b-b61d-41bca7ce8ad1"
      },
      "execution_count": null,
      "outputs": [
        {
          "output_type": "execute_result",
          "data": {
            "text/plain": [
              "array([0, 0, 0, 0, 0, 0, 0, 0, 0, 0, 0, 0, 0, 0, 0, 0, 0, 0, 0, 0, 0, 0,\n",
              "       0, 0, 0, 0, 0, 0, 0, 0, 0, 0, 0, 0, 0, 0, 0, 0, 0, 0, 0, 0, 0, 0,\n",
              "       0, 0, 0, 0, 0, 0, 0, 0, 0, 0, 0, 0, 0, 0, 0, 0, 0, 0, 0, 0, 0, 0,\n",
              "       0, 0, 0, 0, 0, 0, 0, 0, 0, 0, 0, 0, 0, 0, 0, 0, 0, 0, 0, 0, 0, 0,\n",
              "       0, 0, 0, 0, 0, 0, 0, 0, 0, 0, 0, 0, 1, 1, 1, 1, 1, 1, 1, 1, 1, 1,\n",
              "       1, 1, 1, 1, 1, 1, 1, 1, 1, 1, 1, 1, 1, 1, 1, 1, 1, 1, 1, 1, 1, 1,\n",
              "       1, 1, 1, 1, 1, 1, 1, 1, 1, 1, 1, 1, 1, 1, 1, 1, 1, 1])"
            ]
          },
          "metadata": {},
          "execution_count": 23
        }
      ]
    },
    {
      "cell_type": "code",
      "source": [
        "from sklearn.linear_model import LogisticRegression\n",
        "log_reg = LogisticRegression()\n",
        "log_reg.fit(X, y)"
      ],
      "metadata": {
        "colab": {
          "base_uri": "https://localhost:8080/",
          "height": 74
        },
        "id": "OBX4llziasne",
        "outputId": "ab446f82-11a0-4d3c-a070-051a5b7f7d52"
      },
      "execution_count": null,
      "outputs": [
        {
          "output_type": "execute_result",
          "data": {
            "text/plain": [
              "LogisticRegression()"
            ],
            "text/html": [
              "<style>#sk-container-id-2 {color: black;background-color: white;}#sk-container-id-2 pre{padding: 0;}#sk-container-id-2 div.sk-toggleable {background-color: white;}#sk-container-id-2 label.sk-toggleable__label {cursor: pointer;display: block;width: 100%;margin-bottom: 0;padding: 0.3em;box-sizing: border-box;text-align: center;}#sk-container-id-2 label.sk-toggleable__label-arrow:before {content: \"▸\";float: left;margin-right: 0.25em;color: #696969;}#sk-container-id-2 label.sk-toggleable__label-arrow:hover:before {color: black;}#sk-container-id-2 div.sk-estimator:hover label.sk-toggleable__label-arrow:before {color: black;}#sk-container-id-2 div.sk-toggleable__content {max-height: 0;max-width: 0;overflow: hidden;text-align: left;background-color: #f0f8ff;}#sk-container-id-2 div.sk-toggleable__content pre {margin: 0.2em;color: black;border-radius: 0.25em;background-color: #f0f8ff;}#sk-container-id-2 input.sk-toggleable__control:checked~div.sk-toggleable__content {max-height: 200px;max-width: 100%;overflow: auto;}#sk-container-id-2 input.sk-toggleable__control:checked~label.sk-toggleable__label-arrow:before {content: \"▾\";}#sk-container-id-2 div.sk-estimator input.sk-toggleable__control:checked~label.sk-toggleable__label {background-color: #d4ebff;}#sk-container-id-2 div.sk-label input.sk-toggleable__control:checked~label.sk-toggleable__label {background-color: #d4ebff;}#sk-container-id-2 input.sk-hidden--visually {border: 0;clip: rect(1px 1px 1px 1px);clip: rect(1px, 1px, 1px, 1px);height: 1px;margin: -1px;overflow: hidden;padding: 0;position: absolute;width: 1px;}#sk-container-id-2 div.sk-estimator {font-family: monospace;background-color: #f0f8ff;border: 1px dotted black;border-radius: 0.25em;box-sizing: border-box;margin-bottom: 0.5em;}#sk-container-id-2 div.sk-estimator:hover {background-color: #d4ebff;}#sk-container-id-2 div.sk-parallel-item::after {content: \"\";width: 100%;border-bottom: 1px solid gray;flex-grow: 1;}#sk-container-id-2 div.sk-label:hover label.sk-toggleable__label {background-color: #d4ebff;}#sk-container-id-2 div.sk-serial::before {content: \"\";position: absolute;border-left: 1px solid gray;box-sizing: border-box;top: 0;bottom: 0;left: 50%;z-index: 0;}#sk-container-id-2 div.sk-serial {display: flex;flex-direction: column;align-items: center;background-color: white;padding-right: 0.2em;padding-left: 0.2em;position: relative;}#sk-container-id-2 div.sk-item {position: relative;z-index: 1;}#sk-container-id-2 div.sk-parallel {display: flex;align-items: stretch;justify-content: center;background-color: white;position: relative;}#sk-container-id-2 div.sk-item::before, #sk-container-id-2 div.sk-parallel-item::before {content: \"\";position: absolute;border-left: 1px solid gray;box-sizing: border-box;top: 0;bottom: 0;left: 50%;z-index: -1;}#sk-container-id-2 div.sk-parallel-item {display: flex;flex-direction: column;z-index: 1;position: relative;background-color: white;}#sk-container-id-2 div.sk-parallel-item:first-child::after {align-self: flex-end;width: 50%;}#sk-container-id-2 div.sk-parallel-item:last-child::after {align-self: flex-start;width: 50%;}#sk-container-id-2 div.sk-parallel-item:only-child::after {width: 0;}#sk-container-id-2 div.sk-dashed-wrapped {border: 1px dashed gray;margin: 0 0.4em 0.5em 0.4em;box-sizing: border-box;padding-bottom: 0.4em;background-color: white;}#sk-container-id-2 div.sk-label label {font-family: monospace;font-weight: bold;display: inline-block;line-height: 1.2em;}#sk-container-id-2 div.sk-label-container {text-align: center;}#sk-container-id-2 div.sk-container {/* jupyter's `normalize.less` sets `[hidden] { display: none; }` but bootstrap.min.css set `[hidden] { display: none !important; }` so we also need the `!important` here to be able to override the default hidden behavior on the sphinx rendered scikit-learn.org. See: https://github.com/scikit-learn/scikit-learn/issues/21755 */display: inline-block !important;position: relative;}#sk-container-id-2 div.sk-text-repr-fallback {display: none;}</style><div id=\"sk-container-id-2\" class=\"sk-top-container\"><div class=\"sk-text-repr-fallback\"><pre>LogisticRegression()</pre><b>In a Jupyter environment, please rerun this cell to show the HTML representation or trust the notebook. <br />On GitHub, the HTML representation is unable to render, please try loading this page with nbviewer.org.</b></div><div class=\"sk-container\" hidden><div class=\"sk-item\"><div class=\"sk-estimator sk-toggleable\"><input class=\"sk-toggleable__control sk-hidden--visually\" id=\"sk-estimator-id-2\" type=\"checkbox\" checked><label for=\"sk-estimator-id-2\" class=\"sk-toggleable__label sk-toggleable__label-arrow\">LogisticRegression</label><div class=\"sk-toggleable__content\"><pre>LogisticRegression()</pre></div></div></div></div></div>"
            ]
          },
          "metadata": {},
          "execution_count": 24
        }
      ]
    },
    {
      "cell_type": "markdown",
      "source": [
        "Let’s look at the model’s estimated probabilities for flowers with petal widths varying\n",
        "from 0 to 3 cm"
      ],
      "metadata": {
        "id": "BcT9aCUfbJm6"
      }
    },
    {
      "cell_type": "code",
      "source": [
        "import matplotlib.pyplot as plt\n",
        "import numpy as np\n",
        "X_new = np.linspace(0, 3, 1000).reshape(-1, 1)\n",
        "y_proba = log_reg.predict_proba(X_new)\n",
        "y_proba\n",
        "\n"
      ],
      "metadata": {
        "colab": {
          "base_uri": "https://localhost:8080/"
        },
        "id": "oisrtJXZbKAz",
        "outputId": "df0d635e-c06a-426f-eb8c-463964496e48"
      },
      "execution_count": null,
      "outputs": [
        {
          "output_type": "execute_result",
          "data": {
            "text/plain": [
              "array([[9.99250016e-01, 7.49984089e-04],\n",
              "       [9.99240201e-01, 7.59799387e-04],\n",
              "       [9.99230257e-01, 7.69743043e-04],\n",
              "       ...,\n",
              "       [3.08374822e-03, 9.96916252e-01],\n",
              "       [3.04400296e-03, 9.96955997e-01],\n",
              "       [3.00476842e-03, 9.96995232e-01]])"
            ]
          },
          "metadata": {},
          "execution_count": 25
        }
      ]
    },
    {
      "cell_type": "code",
      "source": [
        "plt.ylim(-0.01, 1.01)\n",
        "plt.plot(X[y==0], y[y==0], \"bs\")\n",
        "plt.plot(X[y==1], y[y==1], \"g^\")\n",
        "plt.plot(X_new, y_proba[:, 1], \"g-\", linewidth=2, label=\"Iris virginica\")\n",
        "plt.plot(X_new, y_proba[:, 0], \"b--\", linewidth=2, label=\"Not Iris virginica\")\n",
        "decision_boundary = X_new[y_proba[:, 1] >= 0.5][0]\n",
        "#print(decision_boundary)\n",
        "plt.plot([decision_boundary, decision_boundary], [-1, 2], \"k:\", linewidth=2)\n",
        "plt.xlabel(\"Petal width (cm)\", fontsize=14)\n",
        "plt.ylabel(\"Probability\", fontsize=14)\n"
      ],
      "metadata": {
        "colab": {
          "base_uri": "https://localhost:8080/",
          "height": 474
        },
        "id": "b1Q67GsfcIWV",
        "outputId": "5c16c5f7-b6c1-4b0a-a7f9-85e920720c2c"
      },
      "execution_count": null,
      "outputs": [
        {
          "output_type": "execute_result",
          "data": {
            "text/plain": [
              "Text(0, 0.5, 'Probability')"
            ]
          },
          "metadata": {},
          "execution_count": 26
        },
        {
          "output_type": "display_data",
          "data": {
            "text/plain": [
              "<Figure size 640x480 with 1 Axes>"
            ],
            "image/png": "[encoded data removed]"
          },
          "metadata": {}
        }
      ]
    },
    {
      "cell_type": "markdown",
      "source": [
        "The petal width of Iris-Virginica flowers (represented by triangles) ranges from 1.4\n",
        "cm to 2.5 cm, while the other iris flowers (represented by squares) generally have a\n",
        "smaller petal width, ranging from 0.1 cm to 1.8 cm. Notice that there is a bit of overlap.\n",
        "Above about 2 cm the classifier is highly confident that the flower is an Iris-\n",
        "Virginica (it outputs a high probability to that class), while below 1 cm it is highly\n",
        "confident that it is not an Iris-Virginica (high probability for the “Not Iris-Virginica”\n",
        "class). In between these extremes, the classifier is unsure. However, if you ask it to\n",
        "predict the class (using the predict() method rather than the predict_proba()\n",
        "method), it will return whichever class is the most likely. Therefore, there is a decision\n",
        "boundary at around 1.6 cm where both probabilities are equal to 50%: if the petal\n",
        "width is higher than 1.6 cm, the classifier will predict that the flower is an Iris-\n",
        "Virginica, or else it will predict that it is not (even if it is not very confident):"
      ],
      "metadata": {
        "id": "XfMfPem3c4Yp"
      }
    },
    {
      "cell_type": "code",
      "source": [
        "log_reg.predict([[1.7], [1.5]])"
      ],
      "metadata": {
        "colab": {
          "base_uri": "https://localhost:8080/"
        },
        "id": "jph9slUkc49Z",
        "outputId": "90580984-c995-414e-82c8-a370390e76ad"
      },
      "execution_count": null,
      "outputs": [
        {
          "output_type": "execute_result",
          "data": {
            "text/plain": [
              "array([1, 0])"
            ]
          },
          "metadata": {},
          "execution_count": 27
        }
      ]
    },
    {
      "cell_type": "markdown",
      "source": [
        "# Finding the value of theta using Gradient Descent"
      ],
      "metadata": {
        "id": "nT9Oonaj4AfU"
      }
    },
    {
      "cell_type": "code",
      "source": [
        "import numpy as np\n",
        "\n",
        "def sigmoid(z):\n",
        "    return 1 / (1 + np.exp(-z))\n",
        "\n",
        "def gradient_descent_logistic(X, y, learning_rate=0.01, num_iterations=2000):\n",
        "    # Add intercept term to X\n",
        "    X = np.column_stack((np.ones(len(X)), X))\n",
        "\n",
        "    # Initialize theta with zeros\n",
        "    theta = np.zeros((X.shape[1], 1))\n",
        "\n",
        "    m = len(y)\n",
        "\n",
        "    for i in range(num_iterations):\n",
        "        # Compute predictions\n",
        "        z = np.dot(X, theta)\n",
        "        predictions = sigmoid(z)\n",
        "\n",
        "        # Compute errors\n",
        "        errors = predictions - y\n",
        "\n",
        "        # Compute gradient\n",
        "        gradient = (1 / m) * np.dot(X.T, errors)\n",
        "\n",
        "        # Update theta\n",
        "        theta -= learning_rate * gradient\n",
        "\n",
        "    return theta\n",
        "\n",
        "def predict_logistic(X, theta):\n",
        "    # Add intercept term to X\n",
        "    X = np.column_stack((np.ones(len(X)), X))\n",
        "    # Predict probabilities\n",
        "    z = np.dot(X, theta)\n",
        "    probabilities = sigmoid(z)\n",
        "    # Convert probabilities to binary predictions\n",
        "    binary_predictions = (probabilities >= 0.5).astype(int)\n",
        "    return binary_predictions\n",
        "\n",
        "# Example usage:\n",
        "# Sample data\n",
        "X = np.array([1, 2, 3, 4, 5]).reshape(-1, 1)  # Feature\n",
        "y = np.array([0, 0, 1, 1, 1]).reshape(-1, 1)  # Target variable (binary)\n",
        "\n",
        "print(\"Features\")\n",
        "print(X)\n",
        "print(\"Target Variables\")\n",
        "print(y)\n",
        "\n",
        "# Train the model using gradient descent\n",
        "theta = gradient_descent_logistic(X, y)\n",
        "\n",
        "# Make predictions\n",
        "y_pred = predict_logistic(X, theta)\n",
        "\n",
        "print(\"Model coefficients (theta):\", theta.flatten())\n",
        "print(\"Predictions:\", y_pred.flatten())\n"
      ],
      "metadata": {
        "colab": {
          "base_uri": "https://localhost:8080/"
        },
        "id": "5VqXjvDn4GlF",
        "outputId": "feb627e6-d610-455d-8135-2ad7d403c649"
      },
      "execution_count": null,
      "outputs": [
        {
          "output_type": "stream",
          "name": "stdout",
          "text": [
            "Features\n",
            "[[1]\n",
            " [2]\n",
            " [3]\n",
            " [4]\n",
            " [5]]\n",
            "Target Variables\n",
            "[[0]\n",
            " [0]\n",
            " [1]\n",
            " [1]\n",
            " [1]]\n",
            "Model coefficients (theta): [-1.98352644  1.01596286]\n",
            "Predictions: [0 1 1 1 1]\n"
          ]
        }
      ]
    }
  ]
}